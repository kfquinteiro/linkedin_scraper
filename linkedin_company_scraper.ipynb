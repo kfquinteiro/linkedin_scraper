{
 "cells": [
  {
   "cell_type": "code",
   "execution_count": 37,
   "id": "a95b6f34-8cc9-40dd-b5c0-2f38dcb90e2e",
   "metadata": {},
   "outputs": [],
   "source": [
    "# With this code you should be able to retrieve data from any company page on LinkedIn\n",
    "# Remember to set up a date range and edit your login information when sending your request to the API\n",
    "# You can expect to download a .xlsx file with: post id, post URL, description, likes, comments and shares\n",
    "# Feel free to clone it and use as you wish"
   ]
  },
  {
   "cell_type": "code",
   "execution_count": 118,
   "id": "de22dd5c-331f-4766-976a-7dc3483d4094",
   "metadata": {},
   "outputs": [
    {
     "name": "stdout",
     "output_type": "stream",
     "text": [
      "Requirement already satisfied: scrape in c:\\users\\franc\\miniforge3\\lib\\site-packages (0.11.3)\n",
      "Requirement already satisfied: linkedin-api in c:\\users\\franc\\miniforge3\\lib\\site-packages (2.3.0)\n",
      "Requirement already satisfied: openpyxl in c:\\users\\franc\\miniforge3\\lib\\site-packages (3.1.5)\n",
      "Requirement already satisfied: lxml in c:\\users\\franc\\miniforge3\\lib\\site-packages (from scrape) (5.3.0)\n",
      "Requirement already satisfied: pdfkit in c:\\users\\franc\\miniforge3\\lib\\site-packages (from scrape) (1.0.0)\n",
      "Requirement already satisfied: requests in c:\\users\\franc\\miniforge3\\lib\\site-packages (from scrape) (2.32.3)\n",
      "Requirement already satisfied: six in c:\\users\\franc\\miniforge3\\lib\\site-packages (from scrape) (1.16.0)\n",
      "Requirement already satisfied: tldextract in c:\\users\\franc\\miniforge3\\lib\\site-packages (from scrape) (5.1.2)\n",
      "Requirement already satisfied: beautifulsoup4<5.0.0,>=4.12.3 in c:\\users\\franc\\miniforge3\\lib\\site-packages (from linkedin-api) (4.12.3)\n",
      "Requirement already satisfied: et-xmlfile in c:\\users\\franc\\miniforge3\\lib\\site-packages (from openpyxl) (1.1.0)\n",
      "Requirement already satisfied: soupsieve>1.2 in c:\\users\\franc\\miniforge3\\lib\\site-packages (from beautifulsoup4<5.0.0,>=4.12.3->linkedin-api) (2.6)\n",
      "Requirement already satisfied: charset-normalizer<4,>=2 in c:\\users\\franc\\miniforge3\\lib\\site-packages (from requests->scrape) (3.3.2)\n",
      "Requirement already satisfied: idna<4,>=2.5 in c:\\users\\franc\\miniforge3\\lib\\site-packages (from requests->scrape) (3.8)\n",
      "Requirement already satisfied: urllib3<3,>=1.21.1 in c:\\users\\franc\\miniforge3\\lib\\site-packages (from requests->scrape) (2.2.2)\n",
      "Requirement already satisfied: certifi>=2017.4.17 in c:\\users\\franc\\miniforge3\\lib\\site-packages (from requests->scrape) (2024.8.30)\n",
      "Requirement already satisfied: requests-file>=1.4 in c:\\users\\franc\\miniforge3\\lib\\site-packages (from tldextract->scrape) (2.1.0)\n",
      "Requirement already satisfied: filelock>=3.0.8 in c:\\users\\franc\\miniforge3\\lib\\site-packages (from tldextract->scrape) (3.16.0)\n"
     ]
    }
   ],
   "source": [
    "# Libraries\n",
    "!pip install scrape linkedin-api openpyxl\n",
    "\n",
    "# Importing\n",
    "import scrape as scr\n",
    "import pandas as pd\n",
    "import csv\n",
    "import openpyxl\n",
    "import json\n",
    "from linkedin_api import Linkedin  # Corrigido o nome do módulo\n"
   ]
  },
  {
   "cell_type": "code",
   "execution_count": 121,
   "id": "fddd7635-af4c-4d8e-b35a-a3727fded2d7",
   "metadata": {},
   "outputs": [],
   "source": [
    "# Login information, page you want to scrape and date range\n",
    "\n",
    "login_lkd = \"xx\" \n",
    "password_lkd = \"xx\"  \n",
    "company_user = \"xx\"  # Company username \n",
    "since = \"2024-01-01\"\n",
    "include = [\"urn\", \"time\", \"impressions\", \"reactions\", \"comments\"]"
   ]
  },
  {
   "cell_type": "code",
   "execution_count": 122,
   "id": "a9272b65-0699-4961-b903-decf2b0a5ccf",
   "metadata": {},
   "outputs": [
    {
     "name": "stdout",
     "output_type": "stream",
     "text": [
      "{'staffingCompany': False, 'companyIndustries': [{'localizedName': 'Civil Engineering', 'entityUrn': 'urn:li:fs_industry:51'}], 'callToAction': {'callToActionType': 'VIEW_WEBSITE', 'visible': True, 'callToActionMessage': {'textDirection': 'USER_LOCALE', 'text': 'Visit website'}, 'url': 'http://www.geribello.com.br/'}, 'staffCount': 176, 'adsRule': 'STANDARD', 'companyEmployeesSearchPageUrl': 'https://www.linkedin.com/vsearch/p?f_CC=67744919', 'viewerFollowingJobsUpdates': False, 'staffCountRange': {'start': 201, 'end': 500}, 'permissions': {'landingPageAdmin': False, 'admin': False, 'adAccountHolder': False}, 'logo': {'image': {'com.linkedin.common.VectorImage': {'artifacts': [{'width': 200, 'fileIdentifyingUrlPathSegment': '200_200/company-logo_200_200/0/1630501836868/geribelloengenharia_logo?e=1734566400&v=beta&t=oGCaT_gkOMrs3gpq-rGnD9aDnAdskmJjhG0EIdO5HVY', 'expiresAt': 1734566400000, 'height': 200}, {'width': 100, 'fileIdentifyingUrlPathSegment': '100_100/company-logo_100_100/0/1630501836868/geribelloengenharia_logo?e=1734566400&v=beta&t=iotVVMY4V7mOAwVhzxr_bBef3WymdWnnUjDAqsYgBr8', 'expiresAt': 1734566400000, 'height': 100}, {'width': 400, 'fileIdentifyingUrlPathSegment': '400_400/company-logo_400_400/0/1630501836868/geribelloengenharia_logo?e=1734566400&v=beta&t=phWI20D0MPmxBjFKngroCsil98138WnIGNaObR4DRPk', 'expiresAt': 1734566400000, 'height': 400}], 'rootUrl': 'https://media.licdn.com/dms/image/v2/C4D0BAQGamM6sskCeNA/company-logo_'}}, 'type': 'SQUARE_LOGO'}, 'claimable': False, 'specialities': [], 'confirmedLocations': [{'country': 'BR', 'geographicArea': 'São Paulo', 'city': 'São Paulo', 'postalCode': '04028-002', 'streetAddressOptOut': False, 'headquarter': True, 'line2': '11º andar, cj 112', 'line1': 'Avenida Ibirapuera, 2332, Torre II'}], 'followingInfo': {'entityUrn': 'urn:li:fs_followingInfo:urn:li:company:67744919', 'dashFollowingStateUrn': 'urn:li:fsd_followingState:urn:li:fsd_company:67744919', 'following': False, 'followingType': 'DEFAULT', 'followerCount': 5823}, 'viewerEmployee': False, 'affiliatedCompaniesWithEmployeesRollup': [], 'lcpTreatment': False, 'affiliatedCompaniesWithJobsRollup': [], 'associatedHashtagsResolutionResults': {'urn:li:fs_contentTopicData:urn:li:hashtag:engenhariacivil': {'feedTopic': {'topic': {'trending': False, 'name': '#engenhariacivil', 'useCase': 'HASHTAG_FEED', 'recommendationTrackingId': 'ÿ²c\\x1eCÙC+\\x9f¡\\tßCØËË', 'backendUrn': 'urn:li:hashtag:engenhariacivil'}, 'tracking': {'trackingId': '/7JjHkPZQyufoQnfQ9jLyw=='}, 'entityUrn': 'urn:li:fs_feedTopic:(urn:li:hashtag:engenhariacivil,HASHTAG_FEED)'}, '$recipeType': 'com.linkedin.voyager.deco.organization.web.WebContentTopicDataCard', 'entityUrn': 'urn:li:fs_contentTopicData:urn:li:hashtag:engenhariacivil', 'followAction': {'followingInfo': {'followingType': 'DEFAULT', 'entityUrn': 'urn:li:fs_followingInfo:urn:li:hashtag:engenhariacivil', 'followerCount': 46334, 'dashFollowingStateUrn': 'urn:li:fsd_followingState:urn:li:fsd_hashtag:(engenhariacivil,urn:li:activity:-)', 'following': False, 'trackingUrn': 'urn:li:hashtag:engenhariacivil'}, 'unfollowTrackingActionType': 'unfollowTopic', 'followTrackingActionType': 'followTopic', 'type': 'FOLLOW_TOGGLE', 'trackingActionType': 'followTopic'}}, 'urn:li:fs_contentTopicData:urn:li:hashtag:geribello': {'feedTopic': {'topic': {'trending': False, 'name': '#geribello', 'useCase': 'HASHTAG_FEED', 'recommendationTrackingId': '#\\x86¶²/fM¥\\x91\\x08\\x03ªe|Ñ\\x91', 'backendUrn': 'urn:li:hashtag:geribello'}, 'tracking': {'trackingId': 'I4a2si9mTaWRCAOqZXzRkQ=='}, 'entityUrn': 'urn:li:fs_feedTopic:(urn:li:hashtag:geribello,HASHTAG_FEED)'}, '$recipeType': 'com.linkedin.voyager.deco.organization.web.WebContentTopicDataCard', 'entityUrn': 'urn:li:fs_contentTopicData:urn:li:hashtag:geribello', 'followAction': {'followingInfo': {'followingType': 'DEFAULT', 'entityUrn': 'urn:li:fs_followingInfo:urn:li:hashtag:geribello', 'followerCount': 1, 'dashFollowingStateUrn': 'urn:li:fsd_followingState:urn:li:fsd_hashtag:(geribello,urn:li:activity:-)', 'following': False, 'trackingUrn': 'urn:li:hashtag:geribello'}, 'unfollowTrackingActionType': 'unfollowTopic', 'followTrackingActionType': 'followTopic', 'type': 'FOLLOW_TOGGLE', 'trackingActionType': 'followTopic'}}, 'urn:li:fs_contentTopicData:urn:li:hashtag:geribelloengenharia': {'feedTopic': {'topic': {'trending': False, 'name': '#geribelloengenharia', 'useCase': 'HASHTAG_FEED', 'recommendationTrackingId': '¯\\x1fcÉR\\x90@\\x10\\x8a|POåfû\\x03', 'backendUrn': 'urn:li:hashtag:geribelloengenharia'}, 'tracking': {'trackingId': 'rx9jyVKQQBCKfFBP5Wb7Aw=='}, 'entityUrn': 'urn:li:fs_feedTopic:(urn:li:hashtag:geribelloengenharia,HASHTAG_FEED)'}, '$recipeType': 'com.linkedin.voyager.deco.organization.web.WebContentTopicDataCard', 'entityUrn': 'urn:li:fs_contentTopicData:urn:li:hashtag:geribelloengenharia', 'followAction': {'followingInfo': {'followingType': 'DEFAULT', 'entityUrn': 'urn:li:fs_followingInfo:urn:li:hashtag:geribelloengenharia', 'followerCount': 4, 'dashFollowingStateUrn': 'urn:li:fsd_followingState:urn:li:fsd_hashtag:(geribelloengenharia,urn:li:activity:-)', 'following': False, 'trackingUrn': 'urn:li:hashtag:geribelloengenharia'}, 'unfollowTrackingActionType': 'unfollowTopic', 'followTrackingActionType': 'followTopic', 'type': 'FOLLOW_TOGGLE', 'trackingActionType': 'followTopic'}}}, 'phone': {'number': '(11) 3709-4000'}, 'name': 'Geribello Engenharia ', '$recipeType': 'com.linkedin.voyager.deco.organization.web.WebFullCompanyMain', 'description': 'Fundada em 1979, a Geribello Engenharia opera em praticamente todas as áreas da engenharia consultiva, nos setores público e privado.\\n\\nDedica-se, principalmente, ao planejamento, gerenciamento, supervisão e fiscalização de empreendimentos públicos nas áreas de transportes, infraestrutura, habitação, educação, saneamento, energia, saúde e serviços relacionados como: desenvolvimento de programas sociais, gestão ambiental, levantamentos topográficos, estudos de mercado, consultoria em administração médico-hospitalar e avaliação patrimonial. \\n\\nMissão:\\n\\nSer uma empresa de prestação de serviços de engenharia, sólida,\\nsustentável, que desenvolve seu trabalho com qualidade e ética,\\nfocada nas necessidades do cliente.\\n\\n\\n', 'entityUrn': 'urn:li:fs_normalized_company:67744919', 'headquarter': {'country': 'BR', 'geographicArea': 'São Paulo', 'city': 'São Paulo', 'postalCode': '04028-002', 'line2': '11º andar, cj 112', 'line1': 'Avenida Ibirapuera, 2332, Torre II'}, 'paidCompany': False, 'universalName': 'geribelloengenharia', 'viewerPendingAdministrator': False, 'viewerConnectedToAdministrator': False, 'affiliatedCompanies': [], 'dataVersion': -1, 'foundedOn': {'year': 1979}, 'companyType': {'localizedName': 'Privately Held', 'code': 'PRIVATELY_HELD'}, 'associatedHashtags': ['urn:li:fs_contentTopicData:urn:li:hashtag:engenhariacivil', 'urn:li:fs_contentTopicData:urn:li:hashtag:geribelloengenharia', 'urn:li:fs_contentTopicData:urn:li:hashtag:geribello'], 'groups': [], 'url': 'https://www.linkedin.com/company/geribelloengenharia', 'showcasePages': [], 'claimableByViewer': False, 'jobSearchPageUrl': 'https://www.linkedin.com/jobs/search?geoId=92000000&f_C=67744919', 'showcase': False, 'autoGenerated': False, 'backgroundCoverImage': {'image': {'com.linkedin.common.VectorImage': {'artifacts': [{'width': 750, 'fileIdentifyingUrlPathSegment': '27_750/image-scale_127_750/0/1704462269919/geribelloengenharia_cover?e=1727132400&v=beta&t=7c_uMblk5hYTsvz8IuDLwtv8UR7eBKd9MFLcFcU-KrU', 'expiresAt': 1727132400000, 'height': 126}, {'width': 108, 'fileIdentifyingUrlPathSegment': '08_640/image-scale_108_640/0/1704462269919/geribelloengenharia_cover?e=1727132400&v=beta&t=4I6_FoVJIJpHjwogLmC-iPnXq_cNuq5tVA_yKO3kcFo', 'expiresAt': 1727132400000, 'height': 18}, {'width': 1128, 'fileIdentifyingUrlPathSegment': '91_1128/image-scale_191_1128/0/1704462269919/geribelloengenharia_cover?e=1727132400&v=beta&t=PgzvofyycRP64EJWm24E4UwHeVBsEGkBH5F8S2yFxts', 'expiresAt': 1727132400000, 'height': 191}], 'rootUrl': 'https://media.licdn.com/dms/image/v2/D4D3DAQGflwaCu1Bwhw/image-scale_1'}}, 'cropInfo': {'x': 0, 'width': 1128, 'y': 0, 'height': 191}}}\n"
     ]
    }
   ],
   "source": [
    "# Authenticate using your LinkedIn information\n",
    "api = Linkedin(login_lkd, password_lkd)\n",
    "\n",
    "# Fetch profile\n",
    "profile = api.get_company(company_user)\n",
    "\n",
    "# Print profile details\n",
    "print(profile)\n"
   ]
  },
  {
   "cell_type": "code",
   "execution_count": 129,
   "id": "7b3b81fa-7c06-45fa-869d-e3f8e405e13f",
   "metadata": {},
   "outputs": [],
   "source": [
    "# You can find the company's ID above, it's the number sequence in the end of the first URL\n",
    "company_id = '67744919'  # ID da empresa\n",
    "\n",
    "# Processing and extracting metrics from posts\n",
    "\n",
    "def process_posts(posts):\n",
    "    processed_posts = []\n",
    "    for post in posts:\n",
    "        post_id = post.get('id')\n",
    "        permalink = post.get('permalink')\n",
    "        \n",
    "        # ID in 'post_id'\n",
    "        post_activity = post_id\n",
    "        \n",
    "        # Post description\n",
    "        post_text = post.get('value', {}).get('com.linkedin.voyager.feed.render.UpdateV2', {}).get('commentary', {}).get('text', {}).get('text', 'N/A')\n",
    "        \n",
    "        # Engagement\n",
    "        total_shares = post.get('value', {}).get('com.linkedin.voyager.feed.render.UpdateV2', {}).get('socialDetail', {}).get('totalShares', 0)\n",
    "        total_comments = post.get('value', {}).get('com.linkedin.voyager.feed.render.UpdateV2', {}).get('socialDetail', {}).get('totalSocialActivityCounts', {}).get('numComments', 0)\n",
    "        total_likes = post.get('value', {}).get('com.linkedin.voyager.feed.render.UpdateV2', {}).get('socialDetail', {}).get('totalSocialActivityCounts', {}).get('numLikes', 0)\n",
    "        \n",
    "        # Storage it with JSON\n",
    "        processed_posts.append({\n",
    "            'id': post_activity,\n",
    "            'name': company_user,\n",
    "            'url': permalink,\n",
    "            'text': post_text,\n",
    "            'shares': total_shares,\n",
    "            'comments': numComments,\n",
    "            'likes': numLikes,\n",
    "            })\n",
    "        \n",
    "    return processed_posts"
   ]
  },
  {
   "cell_type": "code",
   "execution_count": 130,
   "id": "78fb731c-d41e-4a8a-ae47-aa8c5e92ed05",
   "metadata": {},
   "outputs": [
    {
     "name": "stdout",
     "output_type": "stream",
     "text": [
      "Buscando posts (tentativa 1/3)...\n"
     ]
    }
   ],
   "source": [
    "import json\n",
    "import csv\n",
    "import pandas as pd\n",
    "\n",
    "# Function to convert JSON data directly to CSV\n",
    "def json_to_csv(data, csv_file):\n",
    "    with open(csv_file, 'w', newline='', encoding='utf-8') as f:\n",
    "        writer = csv.DictWriter(f, fieldnames=[\n",
    "            'id', 'name', 'url', 'text',\n",
    "            'shares', 'comments', 'likes'\n",
    "        ])\n",
    "        writer.writeheader()\n",
    "        writer.writerows(data)\n",
    "\n",
    "# Convert CSV directly to XLSX\n",
    "def csv_to_xlsx(csv_file, xlsx_file):\n",
    "    df = pd.read_csv(csv_file)\n",
    "    df.to_excel(xlsx_file, index=False, engine='openpyxl')\n",
    "\n",
    "# Function to process posts and extract metrics\n",
    "def process_posts(posts):\n",
    "    processed_posts = []\n",
    "    for post in posts:\n",
    "        post_activity = post.get('id')\n",
    "        permalink = post.get('permalink')\n",
    "        \n",
    "        # Actor/company name\n",
    "        company_user = post.get('value', {}).get('com.linkedin.voyager.feed.render.UpdateV2', {}).get('actor', {}).get('name', 'N/A')\n",
    "        \n",
    "        # Post text\n",
    "        post_text = post.get('value', {}).get('com.linkedin.voyager.feed.render.UpdateV2', {}).get('commentary', {}).get('text', {}).get('text', 'N/A')\n",
    "        \n",
    "        # Metrics\n",
    "        total_shares = post.get('value', {}).get('com.linkedin.voyager.feed.render.UpdateV2', {}).get('socialDetail', {}).get('totalShares', 0)\n",
    "        num_comments = post.get('value', {}).get('com.linkedin.voyager.feed.render.UpdateV2', {}).get('socialDetail', {}).get('totalSocialActivityCounts', {}).get('numComments', 0)\n",
    "        num_likes = post.get('value', {}).get('com.linkedin.voyager.feed.render.UpdateV2', {}).get('socialDetail', {}).get('totalSocialActivityCounts', {}).get('numLikes', 0)\n",
    "\n",
    "        # Store the data in the list\n",
    "        processed_posts.append({\n",
    "            'id': post_activity,\n",
    "            'name': company_user,\n",
    "            'url': permalink,\n",
    "            'text': post_text,\n",
    "            'shares': total_shares,\n",
    "            'comments': num_comments,\n",
    "            'likes': num_likes,\n",
    "        })\n",
    "\n",
    "    return processed_posts\n",
    "\n",
    "# Main function: Fetch, process, and save posts\n",
    "def fetch_and_process_posts(api, company_id):\n",
    "    posts = fetch_company_posts(api, company_id)\n",
    "    processed_posts = process_posts(posts)\n",
    "    \n",
    "    # Save as JSON and convert to CSV and XLSX\n",
    "    save_to_json(processed_posts)  # Optional if you really need the JSON file\n",
    "    json_to_csv(processed_posts, 'linkedin_posts.csv')\n",
    "    csv_to_xlsx('linkedin_posts.csv', 'linkedin_posts.xlsx')\n",
    "\n",
    "# Save the processed data in JSON (optional, depending on your need)\n",
    "def save_to_json(data, filename='linkedin_posts.json'):\n",
    "    with open(filename, 'w') as f:\n",
    "        json.dump(data, f, indent=4)\n",
    "\n",
    "# Execute the fetching, processing, and saving of posts\n",
    "fetch_and_process_posts(api, company_id)\n"
   ]
  },
  {
   "cell_type": "code",
   "execution_count": null,
   "id": "20e0173c-d988-4bce-ac15-2c5c2b3a7ba7",
   "metadata": {},
   "outputs": [],
   "source": []
  }
 ],
 "metadata": {
  "kernelspec": {
   "display_name": "Python 3 (ipykernel)",
   "language": "python",
   "name": "python3"
  },
  "language_info": {
   "codemirror_mode": {
    "name": "ipython",
    "version": 3
   },
   "file_extension": ".py",
   "mimetype": "text/x-python",
   "name": "python",
   "nbconvert_exporter": "python",
   "pygments_lexer": "ipython3",
   "version": "3.12.5"
  }
 },
 "nbformat": 4,
 "nbformat_minor": 5
}
