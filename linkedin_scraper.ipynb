{
 "cells": [
  {
   "cell_type": "code",
   "execution_count": 47,
   "id": "a22a5910-968b-49b5-9d98-38915370b9b0",
   "metadata": {},
   "outputs": [],
   "source": [
    "# With this code you should be able to retrieve data from any company page on LinkedIn\n",
    "# Remember to set up a date range and edit your login information when sending your request to the API\n",
    "# You can expect to download a .xlsx file with: post id, post URL, description, likes, comments and shares\n",
    "# Feel free to clone it and use as you wish"
   ]
  },
  {
   "cell_type": "code",
   "execution_count": 48,
   "id": "6c7c38e4-577f-4175-9feb-e9bad4c41a37",
   "metadata": {},
   "outputs": [],
   "source": [
    "# libraries\n",
    "# !pip install scrape linkedin-api openpyxl\n",
    "\n",
    "# importing\n",
    "\n",
    "import scrape as scr\n",
    "import pandas as pd\n",
    "import csv\n",
    "import openpyxl\n",
    "import json\n",
    "from linkedin_api import Linkedin "
   ]
  },
  {
   "cell_type": "code",
   "execution_count": 49,
   "id": "78cec54e-b7da-43ee-a1b1-f68e4293731a",
   "metadata": {},
   "outputs": [],
   "source": [
    "# your login information, page you want to scrape and date range\n",
    "\n",
    "login_lkd = \"xxxxx\" \n",
    "password_lkd = \"xxxxx\"  \n",
    "company_user = \"nike\"  # company username \n",
    "since = \"2024-01-01\"\n",
    "include = [\"urn\", \"time\", \"impressions\", \"reactions\", \"comments\"]"
   ]
  },
  {
   "cell_type": "code",
   "execution_count": null,
   "id": "d2ed7cf1-46f0-42eb-a086-2964eca1ea96",
   "metadata": {},
   "outputs": [],
   "source": [
    "# authenticate using your linkedIn information\n",
    "\n",
    "api = Linkedin(login_lkd, password_lkd)\n",
    "\n",
    "# fetch profile\n",
    "\n",
    "profile = api.get_company(company_user)\n",
    "\n",
    "# print profile details so you can find the company's id\n",
    "\n",
    "print(profile)\n"
   ]
  },
  {
   "cell_type": "code",
   "execution_count": 53,
   "id": "c785d85f-af1e-4413-96fc-53ef6b47127d",
   "metadata": {},
   "outputs": [],
   "source": [
    "# you can find the company's ID above, it's the number sequence in the end of the first URL\n",
    "company_id = '2029'  \n",
    "\n",
    "# fetch company posts (limited to 50 posts, more than that may cause ChunkedEncodingError)\n",
    "def fetch_company_posts(api, company_id):\n",
    "    posts = api.get_company_updates(company_id, max_results=50)\n",
    "    return posts"
   ]
  },
  {
   "cell_type": "code",
   "execution_count": 54,
   "id": "8542b187-fedf-4d87-b225-7b6fb37a5dcc",
   "metadata": {},
   "outputs": [],
   "source": [
    "# process and extract posts information\n",
    "def process_posts(posts):\n",
    "    processed_posts = []\n",
    "    for post in posts:\n",
    "        post_activity = post.get('id')\n",
    "        permalink = post.get('permalink')\n",
    "        \n",
    "        # company name\n",
    "        company_user = post.get('value', {}).get('com.linkedin.voyager.feed.render.UpdateV2', {}).get('actor', {}).get('name', 'N/A')\n",
    "        \n",
    "        # post text\n",
    "        post_text = post.get('value', {}).get('com.linkedin.voyager.feed.render.UpdateV2', {}).get('commentary', {}).get('text', {}).get('text', 'N/A')\n",
    "        \n",
    "        # engagement metrics\n",
    "        total_shares = post.get('value', {}).get('com.linkedin.voyager.feed.render.UpdateV2', {}).get('socialDetail', {}).get('totalShares', 0)\n",
    "        num_comments = post.get('value', {}).get('com.linkedin.voyager.feed.render.UpdateV2', {}).get('socialDetail', {}).get('totalSocialActivityCounts', {}).get('numComments', 0)\n",
    "        num_likes = post.get('value', {}).get('com.linkedin.voyager.feed.render.UpdateV2', {}).get('socialDetail', {}).get('totalSocialActivityCounts', {}).get('numLikes', 0)\n",
    "\n",
    "        # store the data as the list\n",
    "        processed_posts.append({\n",
    "            'id': post_activity,\n",
    "            'url': permalink,\n",
    "            'company_name': company_user,\n",
    "            'text': post_text,\n",
    "            'shares': total_shares,\n",
    "            'comments': num_comments,\n",
    "            'likes': num_likes\n",
    "        })\n",
    "\n",
    "    return processed_posts\n"
   ]
  },
  {
   "cell_type": "code",
   "execution_count": 55,
   "id": "b4487437-7736-4968-a2d5-3d30f4b8e051",
   "metadata": {},
   "outputs": [],
   "source": [
    "# saving data processed as JSON\n",
    "def save_posts_to_json(posts, filename='linkedin_posts.json'):\n",
    "    with open(filename, 'w', encoding='utf-8') as f:\n",
    "        json.dump(posts, f, ensure_ascii=False, indent=4)\n",
    "\n",
    "# converting JSON to CSV\n",
    "def json_to_csv(data, csv_file):\n",
    "    with open(csv_file, 'w', newline='', encoding='utf-8') as f:\n",
    "        writer = csv.DictWriter(f, fieldnames=[\n",
    "            'id', 'company_name', 'url', 'text',\n",
    "            'shares', 'comments', 'likes'\n",
    "        ])\n",
    "        writer.writeheader()\n",
    "        writer.writerows(data)\n",
    "\n",
    "# now CSV to XLSX\n",
    "def csv_to_xlsx(csv_file, xlsx_file):\n",
    "    df = pd.read_csv(csv_file)\n",
    "    df.to_excel(xlsx_file, index=False, engine='openpyxl')"
   ]
  },
  {
   "cell_type": "code",
   "execution_count": 56,
   "id": "72770403-243b-447b-836b-a1c85dca8b8f",
   "metadata": {},
   "outputs": [],
   "source": [
    "# now, search, process and save posts\n",
    "def fetch_process_and_save_posts(api, company_id):\n",
    "    posts = fetch_company_posts(api, company_id)  \n",
    "    processed_posts = process_posts(posts)  \n",
    "    \n",
    "    save_posts_to_json(processed_posts)  \n",
    "    json_to_csv(processed_posts, 'linkedin_posts.csv')  \n",
    "    csv_to_xlsx('linkedin_posts.csv', 'linkedin_posts.xlsx')  \n",
    "\n",
    "fetch_process_and_save_posts(api, company_id)"
   ]
  },
  {
   "cell_type": "code",
   "execution_count": null,
   "id": "2a1440b6-e552-43a6-b914-64ea191dde98",
   "metadata": {},
   "outputs": [],
   "source": []
  }
 ],
 "metadata": {
  "kernelspec": {
   "display_name": "Python 3 (ipykernel)",
   "language": "python",
   "name": "python3"
  },
  "language_info": {
   "codemirror_mode": {
    "name": "ipython",
    "version": 3
   },
   "file_extension": ".py",
   "mimetype": "text/x-python",
   "name": "python",
   "nbconvert_exporter": "python",
   "pygments_lexer": "ipython3",
   "version": "3.12.5"
  }
 },
 "nbformat": 4,
 "nbformat_minor": 5
}
